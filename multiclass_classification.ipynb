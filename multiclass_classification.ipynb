{
 "cells": [
  {
   "attachments": {},
   "cell_type": "markdown",
   "metadata": {},
   "source": [
    "## Import Libraries"
   ]
  },
  {
   "cell_type": "code",
   "execution_count": 1,
   "metadata": {},
   "outputs": [],
   "source": [
    "import torch \n",
    "import torch.nn as nn \n",
    "import torch.nn.functional as F \n",
    "import torch.optim as optim \n",
    "from torch.utils.data import DataLoader \n",
    "import torchvision.datasets as datasets \n",
    "import torchvision.transforms as transforms\n",
    "import matplotlib.pyplot as plt "
   ]
  },
  {
   "attachments": {},
   "cell_type": "markdown",
   "metadata": {},
   "source": [
    "## Build Model"
   ]
  },
  {
   "cell_type": "code",
   "execution_count": 2,
   "metadata": {},
   "outputs": [],
   "source": [
    "class Neural_MNIST(nn.Module):\n",
    "     def __init__(self, num_input, num_classes):\n",
    "         super(Neural_MNIST, self).__init__()\n",
    "         self.input_layer = nn.Linear(num_input, 32)\n",
    "         self.first_hidden = nn.Linear(32, 32)\n",
    "         self.second_hidden = nn.Linear(32, 32)\n",
    "         self.third_hidden = nn.Linear(32, 32)\n",
    "         self.output_layer = nn.Linear(32, num_classes)\n",
    "\n",
    "         self.tanh = nn.Tanh()\n",
    "         self.sigmoid = nn.Sigmoid()\n",
    "         self.softmax = nn.Softmax()\n",
    "\n",
    "     def forward(self, x):\n",
    "          x = self.sigmoid( self.input_layer(x) )\n",
    "          x = self.sigmoid( self.first_hidden(x) )\n",
    "          x = self.sigmoid(self.second_hidden(x))\n",
    "          x = self.sigmoid(self.third_hidden(x))\n",
    "\n",
    "          x = self.output_layer(x)\n",
    "          x = F.softmax(x, dim=1)\n",
    "          return x"
   ]
  },
  {
   "attachments": {},
   "cell_type": "markdown",
   "metadata": {},
   "source": [
    "## Use Device and Instantiate Model"
   ]
  },
  {
   "cell_type": "code",
   "execution_count": 3,
   "metadata": {},
   "outputs": [],
   "source": [
    "device = torch.device('cuda' if torch.cuda.is_available() else 'cpu')\n",
    "\n",
    "epochs, input_size, output_size = 20, 784, 10\n",
    "model = Neural_MNIST(input_size, output_size).to(device)"
   ]
  },
  {
   "attachments": {},
   "cell_type": "markdown",
   "metadata": {},
   "source": [
    "## Download Data and Save it in a folder named data_1"
   ]
  },
  {
   "cell_type": "code",
   "execution_count": 4,
   "metadata": {},
   "outputs": [],
   "source": [
    "train_dataset = datasets.FashionMNIST(root='data_1', download=True, train=True, transform=transforms.ToTensor())\n",
    "test_dataset  = datasets.FashionMNIST(root='data_1', download=True, train=False, transform=transforms.ToTensor())"
   ]
  },
  {
   "attachments": {},
   "cell_type": "markdown",
   "metadata": {},
   "source": [
    "## Load the Data"
   ]
  },
  {
   "cell_type": "code",
   "execution_count": 5,
   "metadata": {},
   "outputs": [],
   "source": [
    "train_loader = DataLoader(dataset=train_dataset, batch_size=32, shuffle=True)\n",
    "test_loader  = DataLoader(dataset=test_dataset,  batch_size=32, shuffle=True)"
   ]
  },
  {
   "attachments": {},
   "cell_type": "markdown",
   "metadata": {},
   "source": [
    "## Criterion and Optimizer"
   ]
  },
  {
   "cell_type": "code",
   "execution_count": 6,
   "metadata": {},
   "outputs": [],
   "source": [
    "optimizer = optim.Adam(model.parameters(), lr=0.0005)\n",
    "criterion = nn.CrossEntropyLoss()\n",
    "scheduler = optim.lr_scheduler.ExponentialLR(optimizer, 0.90)"
   ]
  },
  {
   "attachments": {},
   "cell_type": "markdown",
   "metadata": {},
   "source": [
    "## Train the Model"
   ]
  },
  {
   "cell_type": "code",
   "execution_count": 7,
   "metadata": {},
   "outputs": [
    {
     "name": "stdout",
     "output_type": "stream",
     "text": [
      "  1 /  20    |   Train Loss :   2.226703    |  Test Loss :  2.144201\n",
      "  2 /  20    |   Train Loss :   2.126227    |  Test Loss :  2.120973\n",
      "  3 /  20    |   Train Loss :   2.077866    |  Test Loss :  1.972036\n",
      "  4 /  20    |   Train Loss :   1.889266    |  Test Loss :  1.831104\n",
      "  5 /  20    |   Train Loss :   1.792442    |  Test Loss :  1.773849\n",
      "  6 /  20    |   Train Loss :   1.755750    |  Test Loss :  1.752689\n",
      "  7 /  20    |   Train Loss :   1.741588    |  Test Loss :  1.745083\n",
      "  8 /  20    |   Train Loss :   1.735195    |  Test Loss :  1.743732\n",
      "  9 /  20    |   Train Loss :   1.729888    |  Test Loss :  1.736778\n",
      " 10 /  20    |   Train Loss :   1.726385    |  Test Loss :  1.723105\n",
      " 11 /  20    |   Train Loss :   1.692806    |  Test Loss :  1.692119\n",
      " 12 /  20    |   Train Loss :   1.671071    |  Test Loss :  1.676190\n",
      " 13 /  20    |   Train Loss :   1.661975    |  Test Loss :  1.671930\n",
      " 14 /  20    |   Train Loss :   1.656277    |  Test Loss :  1.671130\n",
      " 15 /  20    |   Train Loss :   1.653107    |  Test Loss :  1.668380\n",
      " 16 /  20    |   Train Loss :   1.650132    |  Test Loss :  1.663994\n",
      " 17 /  20    |   Train Loss :   1.647918    |  Test Loss :  1.661152\n",
      " 18 /  20    |   Train Loss :   1.646161    |  Test Loss :  1.662042\n",
      " 19 /  20    |   Train Loss :   1.645192    |  Test Loss :  1.661224\n",
      " 20 /  20    |   Train Loss :   1.643095    |  Test Loss :  1.658240\n"
     ]
    }
   ],
   "source": [
    "all_train_losses, all_test_losses = [], [] \n",
    "\n",
    "for epoch in range(epochs):\n",
    "     mini_loss = 0\n",
    "     for index, (features, targets) in enumerate(train_loader): \n",
    "\n",
    "          features = features.to(device=device)\n",
    "          targets  = targets.to(device=device)\n",
    "\n",
    "          # print(features.shape)\n",
    "          features = features.view(features.shape[0], -1)\n",
    "          # print(features.shape)\n",
    "\n",
    "          optimizer.zero_grad()\n",
    "          prediction = model.forward(features)\n",
    "          train_loss = criterion(prediction, targets)\n",
    "          train_loss.backward()\n",
    "          optimizer.step()\n",
    "\n",
    "          mini_loss += train_loss.item()\n",
    "     \n",
    "     mini_loss_average = mini_loss/len(train_loader)\n",
    "     all_train_losses.append(mini_loss_average)\n",
    "\n",
    "\n",
    "     model.eval()\n",
    "     mini_test_loss = 0\n",
    "     with torch.no_grad():\n",
    "          for ind, (x_train, y_train) in enumerate(test_loader):\n",
    "               x_train = x_train.to(device=device) \n",
    "               y_train = y_train.to(device=device)\n",
    "\n",
    "               x_train = x_train.view(x_train.shape[0], -1)\n",
    "\n",
    "               test_pred = model.forward(x_train)\n",
    "               test_loss = criterion(test_pred, y_train) \n",
    "               mini_test_loss += test_loss.item()\n",
    "     \n",
    "     mini_test_loss_average = mini_test_loss/len(test_loader)\n",
    "     all_test_losses.append(mini_test_loss_average)\n",
    "     model.train()\n",
    "\n",
    "     print(f'{epoch+1 :3} / {epochs:3}    |   Train Loss :   {mini_loss_average :.6f}    |  Test Loss :  {mini_test_loss_average:.6f}')"
   ]
  },
  {
   "attachments": {},
   "cell_type": "markdown",
   "metadata": {},
   "source": [
    "## Plot The Results"
   ]
  },
  {
   "cell_type": "code",
   "execution_count": 8,
   "metadata": {},
   "outputs": [
    {
     "data": {
      "image/png": "[encoded data removed]",
      "text/plain": [
       "<Figure size 640x480 with 1 Axes>"
      ]
     },
     "metadata": {},
     "output_type": "display_data"
    }
   ],
   "source": [
    "plt.plot(all_train_losses, label='training')\n",
    "plt.plot(all_test_losses,  label='Testing')\n",
    "plt.legend() \n",
    "plt.show()"
   ]
  }
 ],
 "metadata": {
  "kernelspec": {
   "display_name": "deeplearning",
   "language": "python",
   "name": "python3"
  },
  "language_info": {
   "codemirror_mode": {
    "name": "ipython",
    "version": 3
   },
   "file_extension": ".py",
   "mimetype": "text/x-python",
   "name": "python",
   "nbconvert_exporter": "python",
   "pygments_lexer": "ipython3",
   "version": "3.8.13"
  },
  "orig_nbformat": 4
 },
 "nbformat": 4,
 "nbformat_minor": 2
}
